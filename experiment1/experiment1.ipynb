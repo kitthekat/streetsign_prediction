{
 "cells": [
  {
   "cell_type": "markdown",
   "metadata": {
    "id": "6JJE3AsG_88r"
   },
   "source": [
    "# Recognizing Traffic Signs\n",
    "The goal of this project is to build a model capable of determining the type of traffic sign that is displayed in an image captured under different real-life conditions and showing obstructions, poor lighting, or even the sign being far away from the camera. We provide you with labeled images already splited in three files (tran/val/test) and a predefined list of signs to recognise. "
   ]
  },
  {
   "cell_type": "code",
   "execution_count": 2,
   "metadata": {
    "id": "x1hNsk9T_88w"
   },
   "outputs": [],
   "source": [
    "# # Download and unzip\n",
    "dataroot = \"../dataroot/\"\n",
    "# !mkdir dataroot \n",
    "# !wget -P dataroot https://raw.githubusercontent.com/emmanueliarussi/DataScienceCapstone/master/3_MidtermProjects/ProjectRTS/data/data_1.zip\n",
    "# !wget -P dataroot https://raw.githubusercontent.com/emmanueliarussi/DataScienceCapstone/master/3_MidtermProjects/ProjectRTS/data/data_2.zip\n",
    "# !wget -P dataroot https://raw.githubusercontent.com/emmanueliarussi/DataScienceCapstone/master/3_MidtermProjects/ProjectRTS/data/data_3.zip "
   ]
  },
  {
   "cell_type": "code",
   "execution_count": 3,
   "metadata": {
    "id": "K9duwrg9_88x"
   },
   "outputs": [],
   "source": [
    "# # Unzip\n",
    "# import zipfile\n",
    "# with zipfile.ZipFile(dataroot+\"data_1.zip\",\"r\") as zip_ref:\n",
    "#     zip_ref.extractall(dataroot)\n",
    "# with zipfile.ZipFile(dataroot+\"data_2.zip\",\"r\") as zip_ref:\n",
    "#     zip_ref.extractall(dataroot)\n",
    "# with zipfile.ZipFile(dataroot+\"data_3.zip\",\"r\") as zip_ref:\n",
    "#     zip_ref.extractall(dataroot)"
   ]
  },
  {
   "cell_type": "code",
   "execution_count": 4,
   "metadata": {
    "id": "Y3YXA-0P_88x"
   },
   "outputs": [
    {
     "data": {
      "text/plain": [
       "{0: 'Speed limit (20km/h)',\n",
       " 1: 'Speed limit (30km/h)',\n",
       " 2: 'Speed limit (50km/h)',\n",
       " 3: 'Speed limit (60km/h)',\n",
       " 4: 'Speed limit (70km/h)',\n",
       " 5: 'Speed limit (80km/h)',\n",
       " 6: 'End of speed limit (80km/h)',\n",
       " 7: 'Speed limit (100km/h)',\n",
       " 8: 'Speed limit (120km/h)',\n",
       " 9: 'No passing',\n",
       " 10: 'No passing for vehicles over 3.5 metric tons',\n",
       " 11: 'Right-of-way at the next intersection',\n",
       " 12: 'Priority road',\n",
       " 13: 'Yield',\n",
       " 14: 'Stop',\n",
       " 15: 'No vehicles',\n",
       " 16: 'Vehicles over 3.5 metric tons prohibited',\n",
       " 17: 'No entry',\n",
       " 18: 'General caution',\n",
       " 19: 'Dangerous curve to the left',\n",
       " 20: 'Dangerous curve to the right',\n",
       " 21: 'Double curve',\n",
       " 22: 'Bumpy road',\n",
       " 23: 'Slippery road',\n",
       " 24: 'Road narrows on the right',\n",
       " 25: 'Road work',\n",
       " 26: 'Traffic signals',\n",
       " 27: 'Pedestrians',\n",
       " 28: 'Children crossing',\n",
       " 29: 'Bicycles crossing',\n",
       " 30: 'Beware of ice/snow',\n",
       " 31: 'Wild animals crossing',\n",
       " 32: 'End of all speed and passing limits',\n",
       " 33: 'Turn right ahead',\n",
       " 34: 'Turn left ahead',\n",
       " 35: 'Ahead only',\n",
       " 36: 'Go straight or right',\n",
       " 37: 'Go straight or left',\n",
       " 38: 'Keep right',\n",
       " 39: 'Keep left',\n",
       " 40: 'Roundabout mandatory',\n",
       " 41: 'End of no passing',\n",
       " 42: 'End of no passing by vehicles over 3.5 metric tons'}"
      ]
     },
     "execution_count": 4,
     "metadata": {},
     "output_type": "execute_result"
    }
   ],
   "source": [
    "# Load sign names\n",
    "import pandas as pd\n",
    "df = pd.read_csv(\"https://raw.githubusercontent.com/emmanueliarussi/DataScienceCapstone/master/3_MidtermProjects/ProjectRTS/data/signnames.csv\")\n",
    "signnames = pd.Series(df.SignName.values,index=df.ClassId).to_dict()\n",
    "signnames"
   ]
  },
  {
   "cell_type": "code",
   "execution_count": 5,
   "metadata": {},
   "outputs": [],
   "source": [
    "df.to_csv(\"sign_names.csv\")"
   ]
  },
  {
   "cell_type": "code",
   "execution_count": 6,
   "metadata": {
    "id": "_ObAX3UA_88y"
   },
   "outputs": [],
   "source": [
    "# Load images\n",
    "import pickle\n",
    "signimages = pickle.load( open( dataroot+\"train.p\", \"rb\" ) )"
   ]
  },
  {
   "cell_type": "code",
   "execution_count": 7,
   "metadata": {
    "id": "gG-7LhNt_88y"
   },
   "outputs": [
    {
     "name": "stdout",
     "output_type": "stream",
     "text": [
      "The image shows a Turn left ahead sign\n"
     ]
    },
    {
     "data": {
      "image/png": "[encoded data removed]",
      "text/plain": [
       "<Figure size 432x288 with 1 Axes>"
      ]
     },
     "metadata": {
      "needs_background": "light"
     },
     "output_type": "display_data"
    }
   ],
   "source": [
    "# Preview image\n",
    "import matplotlib.pyplot as plt\n",
    "import numpy as np\n",
    "# import cv2\n",
    "\n",
    "inx = 20123\n",
    "plt.imshow(signimages['features'][inx])\n",
    "print(\"The image shows a {} sign\".format(signnames[signimages['labels'][inx]]))"
   ]
  },
  {
   "cell_type": "code",
   "execution_count": 1,
   "metadata": {},
   "outputs": [],
   "source": [
    "import tensorflow as tf\n",
    "import tensorflow_addons as tfa\n",
    "import tensorflow_datasets as tfds\n",
    "import matplotlib.pyplot as plt\n",
    "import numpy as np\n",
    "import platform\n",
    "import datetime\n",
    "import os\n",
    "import math\n",
    "import random\n",
    "from toolz import pipe\n",
    "\n",
    "%load_ext tensorboard"
   ]
  },
  {
   "cell_type": "code",
   "execution_count": 9,
   "metadata": {},
   "outputs": [],
   "source": [
    "gpus= tf.config.experimental.list_physical_devices('GPU')\n",
    "tf.config.experimental.set_memory_growth(gpus[0], True)"
   ]
  },
  {
   "cell_type": "code",
   "execution_count": 10,
   "metadata": {},
   "outputs": [],
   "source": [
    "!rd /s /q logs"
   ]
  },
  {
   "cell_type": "code",
   "execution_count": 11,
   "metadata": {},
   "outputs": [],
   "source": [
    "train = signimages\n",
    "with open( dataroot+\"test.p\", \"rb\" ) as fp:\n",
    "    test = pickle.load(fp)\n",
    "with open( dataroot+\"valid.p\", \"rb\" ) as fp:\n",
    "    valid = pickle.load(fp)"
   ]
  },
  {
   "cell_type": "markdown",
   "metadata": {},
   "source": [
    "### Preprocessing"
   ]
  },
  {
   "cell_type": "code",
   "execution_count": 12,
   "metadata": {},
   "outputs": [],
   "source": [
    "def format_example(image):\n",
    "    \"\"\"\n",
    "    Converts image color range to 0:1, consistent size\n",
    "    \"\"\"\n",
    "    return tf.image.resize(tf.cast(image, tf.float32)/255, [32, 32])"
   ]
  },
  {
   "cell_type": "code",
   "execution_count": 13,
   "metadata": {},
   "outputs": [],
   "source": [
    "def convert_to_tf_dataset(raw_data):\n",
    "    \"\"\"\n",
    "    Converts raw images and labels into a tensorflow dataset\n",
    "    \"\"\"\n",
    "    return tf.data.Dataset.from_tensor_slices(\n",
    "                (\n",
    "                    list(map(format_example, raw_data['features'])), \n",
    "                    tf.cast(raw_data['labels'], tf.int32)\n",
    "                )\n",
    "            )"
   ]
  },
  {
   "cell_type": "markdown",
   "metadata": {},
   "source": [
    "#### Convert datasets to Tensorflow datasets"
   ]
  },
  {
   "cell_type": "code",
   "execution_count": 14,
   "metadata": {},
   "outputs": [],
   "source": [
    "train, test, valid = tuple(map(convert_to_tf_dataset, [train, test, valid]))"
   ]
  },
  {
   "cell_type": "code",
   "execution_count": 15,
   "metadata": {},
   "outputs": [
    {
     "data": {
      "text/plain": [
       "tensorflow.python.data.ops.dataset_ops.TensorSliceDataset"
      ]
     },
     "execution_count": 15,
     "metadata": {},
     "output_type": "execute_result"
    }
   ],
   "source": [
    "type(train)"
   ]
  },
  {
   "cell_type": "markdown",
   "metadata": {},
   "source": [
    "##### Confirm TF conversion success by previewing image/label"
   ]
  },
  {
   "cell_type": "code",
   "execution_count": 16,
   "metadata": {},
   "outputs": [],
   "source": [
    "first_image, first_label = list(train.take(1))[0]"
   ]
  },
  {
   "cell_type": "code",
   "execution_count": 17,
   "metadata": {},
   "outputs": [
    {
     "data": {
      "text/plain": [
       "'End of no passing'"
      ]
     },
     "execution_count": 17,
     "metadata": {},
     "output_type": "execute_result"
    }
   ],
   "source": [
    "signnames[first_label.numpy()]"
   ]
  },
  {
   "cell_type": "code",
   "execution_count": 18,
   "metadata": {},
   "outputs": [
    {
     "data": {
      "text/plain": [
       "<matplotlib.image.AxesImage at 0x170800200a0>"
      ]
     },
     "execution_count": 18,
     "metadata": {},
     "output_type": "execute_result"
    },
    {
     "data": {
      "image/png": "[encoded data removed]",
      "text/plain": [
       "<Figure size 432x288 with 1 Axes>"
      ]
     },
     "metadata": {
      "needs_background": "light"
     },
     "output_type": "display_data"
    }
   ],
   "source": [
    "plt.imshow(first_image.numpy())"
   ]
  },
  {
   "cell_type": "markdown",
   "metadata": {},
   "source": [
    "#### Augment Dataset"
   ]
  },
  {
   "cell_type": "code",
   "execution_count": 19,
   "metadata": {},
   "outputs": [],
   "source": [
    "def random_image_flip(image: tf.Tensor) -> tf.Tensor:\n",
    "    \"\"\"\n",
    "    Randomly flips an image left/right\n",
    "    \"\"\"\n",
    "    return tf.image.random_flip_left_right(image)\n",
    "\n",
    "def random_color_change(image: tf.Tensor) -> tf.Tensor:\n",
    "    \"\"\"\n",
    "    Randomly adjusts brightness, contrast, or saturation in an image. Does not adjust\n",
    "    hue\n",
    "    \"\"\"\n",
    "    return tf.clip_by_value(\n",
    "                tf.image.random_contrast(\n",
    "                    tf.image.random_brightness(\n",
    "                        tf.image.random_saturation(image, lower=.75, upper=1.25), \n",
    "                        .05\n",
    "                    ), \n",
    "                    lower=.75,\n",
    "                    upper=1\n",
    "                ), \n",
    "                clip_value_min=0, \n",
    "                clip_value_max=1\n",
    "            )\n",
    "\n",
    "def random_image_rotation(image: tf.Tensor) -> tf.Tensor:\n",
    "    \"\"\"\n",
    "    Randomly rotates and image between 30 and -30 degrees\n",
    "    \"\"\"\n",
    "    return tfa.image.rotate(image, tf.random.uniform(shape=[], minval=-.2, maxval=.2, dtype=tf.float32))\n",
    "\n",
    "def augment_image(image: tf.Tensor, label: tf.Tensor) -> tf.Tensor:\n",
    "    \"\"\"\n",
    "    Performs random augmentation of image\n",
    "    \"\"\"\n",
    "    return pipe(image,\n",
    "               random_image_flip,\n",
    "               random_color_change,\n",
    "               random_image_rotation), label"
   ]
  },
  {
   "cell_type": "code",
   "execution_count": 20,
   "metadata": {},
   "outputs": [
    {
     "name": "stderr",
     "output_type": "stream",
     "text": [
      "c:\\users\\kitthekat\\appdata\\local\\programs\\python\\python38\\lib\\site-packages\\tensorflow_addons\\image\\transform_ops.py:142: UserWarning: fill_value is not supported and is always 0 for TensorFlow < 2.4.0.\n",
      "  warnings.warn(\n"
     ]
    },
    {
     "data": {
      "text/plain": [
       "<matplotlib.image.AxesImage at 0x170d4fbdf40>"
      ]
     },
     "execution_count": 20,
     "metadata": {},
     "output_type": "execute_result"
    },
    {
     "data": {
      "image/png": "[encoded data removed]",
      "text/plain": [
       "<Figure size 432x288 with 1 Axes>"
      ]
     },
     "metadata": {
      "needs_background": "light"
     },
     "output_type": "display_data"
    }
   ],
   "source": [
    "plt.imshow(augment_image(first_image.numpy(), 'test')[0])"
   ]
  },
  {
   "cell_type": "code",
   "execution_count": 21,
   "metadata": {},
   "outputs": [
    {
     "data": {
      "text/plain": [
       "<matplotlib.image.AxesImage at 0x1708a1ee370>"
      ]
     },
     "execution_count": 21,
     "metadata": {},
     "output_type": "execute_result"
    },
    {
     "data": {
      "image/png": "[encoded data removed]",
      "text/plain": [
       "<Figure size 432x288 with 1 Axes>"
      ]
     },
     "metadata": {
      "needs_background": "light"
     },
     "output_type": "display_data"
    }
   ],
   "source": [
    "plt.imshow(augment_image(first_image.numpy(), 'test')[0])"
   ]
  },
  {
   "cell_type": "code",
   "execution_count": 22,
   "metadata": {},
   "outputs": [
    {
     "name": "stderr",
     "output_type": "stream",
     "text": [
      "c:\\users\\kitthekat\\appdata\\local\\programs\\python\\python38\\lib\\site-packages\\tensorflow\\python\\autograph\\impl\\api.py:493: UserWarning: fill_value is not supported and is always 0 for TensorFlow < 2.4.0.\n",
      "  return py_builtins.overload_of(f)(*args)\n"
     ]
    }
   ],
   "source": [
    "augmented_data = train.map(augment_image)"
   ]
  },
  {
   "cell_type": "code",
   "execution_count": 23,
   "metadata": {},
   "outputs": [],
   "source": [
    "train = train.concatenate(augmented_data)"
   ]
  },
  {
   "cell_type": "markdown",
   "metadata": {},
   "source": [
    "#### Batching"
   ]
  },
  {
   "cell_type": "code",
   "execution_count": 24,
   "metadata": {},
   "outputs": [],
   "source": [
    "shuffled_train = train.shuffle(len(train)).batch(32).prefetch(buffer_size=tf.data.experimental.AUTOTUNE)\n",
    "shuffled_test = test.batch(32)"
   ]
  },
  {
   "cell_type": "code",
   "execution_count": 25,
   "metadata": {},
   "outputs": [],
   "source": [
    "batches = tfds.as_numpy(shuffled_test)"
   ]
  },
  {
   "cell_type": "code",
   "execution_count": 26,
   "metadata": {},
   "outputs": [
    {
     "name": "stdout",
     "output_type": "stream",
     "text": [
      "Label batch shape: (32,) \n",
      "\n",
      "Image batch shape: (32, 32, 32, 3) \n",
      "\n",
      "Label batch: [16  1 38 33 11 38 18 12 25 35 12  7 23  7  4  9 21 20 27 38  4 33  9  3\n",
      "  1 11 13 10  9 11  5 17] \n",
      "\n",
      "(32, 32, 3)\n",
      "First batch image: [[[0.45490196 0.54509807 0.68235296]\n",
      "  [0.45490196 0.5372549  0.67058825]\n",
      "  [0.4627451  0.5411765  0.6745098 ]\n",
      "  ...\n",
      "  [0.38431373 0.44705883 0.56078434]\n",
      "  [0.38039216 0.4745098  0.5764706 ]\n",
      "  [0.33333334 0.4117647  0.50980395]]\n",
      "\n",
      " [[0.4509804  0.5568628  0.6901961 ]\n",
      "  [0.4509804  0.54901963 0.68235296]\n",
      "  [0.45882353 0.5529412  0.6862745 ]\n",
      "  ...\n",
      "  [0.46666667 0.56078434 0.6901961 ]\n",
      "  [0.47058824 0.5529412  0.6784314 ]\n",
      "  [0.47058824 0.54509807 0.67058825]]\n",
      "\n",
      " [[0.45882353 0.5529412  0.68235296]\n",
      "  [0.45882353 0.5568628  0.6862745 ]\n",
      "  [0.44705883 0.54901963 0.6745098 ]\n",
      "  ...\n",
      "  [0.47058824 0.5647059  0.7019608 ]\n",
      "  [0.47843137 0.5647059  0.7019608 ]\n",
      "  [0.47058824 0.56078434 0.69411767]]\n",
      "\n",
      " ...\n",
      "\n",
      " [[0.45882353 0.5372549  0.654902  ]\n",
      "  [0.4509804  0.5254902  0.6431373 ]\n",
      "  [0.45882353 0.5294118  0.6431373 ]\n",
      "  ...\n",
      "  [0.4509804  0.5372549  0.6627451 ]\n",
      "  [0.45490196 0.53333336 0.65882355]\n",
      "  [0.4627451  0.54509807 0.6745098 ]]\n",
      "\n",
      " [[0.45490196 0.53333336 0.6509804 ]\n",
      "  [0.44705883 0.5254902  0.65882355]\n",
      "  [0.44313726 0.5137255  0.6509804 ]\n",
      "  ...\n",
      "  [0.44313726 0.5294118  0.654902  ]\n",
      "  [0.45882353 0.53333336 0.64705884]\n",
      "  [0.4509804  0.54509807 0.654902  ]]\n",
      "\n",
      " [[0.4392157  0.5294118  0.654902  ]\n",
      "  [0.43137255 0.5254902  0.64705884]\n",
      "  [0.46666667 0.5294118  0.64705884]\n",
      "  ...\n",
      "  [0.4509804  0.5411765  0.654902  ]\n",
      "  [0.45882353 0.5411765  0.654902  ]\n",
      "  [0.44705883 0.54901963 0.6666667 ]]] \n",
      "\n"
     ]
    },
    {
     "data": {
      "image/png": "[encoded data removed]",
      "text/plain": [
       "<Figure size 432x288 with 1 Axes>"
      ]
     },
     "metadata": {
      "needs_background": "light"
     },
     "output_type": "display_data"
    }
   ],
   "source": [
    "for batch in batches:\n",
    "    image_batch, label_batch = batch\n",
    "    print('Label batch shape:', label_batch.shape, '\\n')\n",
    "    print('Image batch shape:', image_batch.shape, '\\n')\n",
    "    print('Label batch:', label_batch, '\\n')\n",
    "    \n",
    "    for batch_item_index in range(len(image_batch)):\n",
    "        print(image_batch[batch_item_index].shape)\n",
    "        print('First batch image:', image_batch[batch_item_index], '\\n')\n",
    "        plt.imshow(image_batch[batch_item_index])\n",
    "        plt.show()\n",
    "        # Break to shorten the output.\n",
    "        break\n",
    "    # Break to shorten the output.\n",
    "    break"
   ]
  },
  {
   "cell_type": "markdown",
   "metadata": {},
   "source": [
    "### Training"
   ]
  },
  {
   "cell_type": "markdown",
   "metadata": {},
   "source": [
    "#### Create Model"
   ]
  },
  {
   "cell_type": "code",
   "execution_count": 27,
   "metadata": {},
   "outputs": [],
   "source": [
    "model = tf.keras.models.Sequential()\n",
    "\n",
    "model.add(\n",
    "    tf.keras.layers.Convolution2D(\n",
    "        input_shape=(32, 32, 3),\n",
    "        filters=64,\n",
    "        kernel_size=3,\n",
    "        activation='relu'\n",
    "    )\n",
    ")\n",
    "\n",
    "model.add(\n",
    "    tf.keras.layers.MaxPooling2D(\n",
    "        pool_size=(2, 2),\n",
    "        strides=(2, 2),\n",
    "        padding='same'\n",
    "    )\n",
    ")\n",
    "\n",
    "model.add(\n",
    "    tf.keras.layers.Convolution2D(\n",
    "        filters=64, \n",
    "        kernel_size=3, \n",
    "        activation='relu'\n",
    "    )\n",
    ")\n",
    "\n",
    "model.add(\n",
    "    tf.keras.layers.MaxPooling2D(\n",
    "        pool_size=(2, 2),\n",
    "        strides=(2, 2),\n",
    "        padding='same'\n",
    "    )\n",
    ")\n",
    "\n",
    "model.add(\n",
    "    tf.keras.layers.Convolution2D(\n",
    "        filters=128, \n",
    "        kernel_size=3, \n",
    "        activation='relu'\n",
    "    )\n",
    ")\n",
    "\n",
    "model.add(\n",
    "    tf.keras.layers.MaxPooling2D(\n",
    "        pool_size=(2, 2),\n",
    "        strides=(2, 2),\n",
    "        padding='same'\n",
    "    )\n",
    ")\n",
    "\n",
    "model.add(\n",
    "    tf.keras.layers.Convolution2D(\n",
    "        filters=128, \n",
    "        kernel_size=3, \n",
    "        activation='relu'\n",
    "    )\n",
    ")\n",
    "\n",
    "model.add(\n",
    "    tf.keras.layers.MaxPooling2D(\n",
    "        pool_size=(2, 2),\n",
    "        strides=(2, 2),\n",
    "        padding='same'\n",
    "    )\n",
    ")\n",
    "\n",
    "model.add(\n",
    "    tf.keras.layers.Flatten()\n",
    ")\n",
    "\n",
    "model.add(\n",
    "    tf.keras.layers.Dropout(0.5)\n",
    ")\n",
    "\n",
    "model.add(\n",
    "    tf.keras.layers.Dense(\n",
    "        units=512, \n",
    "        activation='relu'\n",
    "    )\n",
    ")\n",
    "\n",
    "model.add(\n",
    "    tf.keras.layers.Dense(\n",
    "        units=len(signnames.keys()), \n",
    "        activation='softmax'\n",
    "    )\n",
    ")"
   ]
  },
  {
   "cell_type": "markdown",
   "metadata": {},
   "source": [
    "##### Model Summary"
   ]
  },
  {
   "cell_type": "code",
   "execution_count": 28,
   "metadata": {},
   "outputs": [
    {
     "name": "stdout",
     "output_type": "stream",
     "text": [
      "Model: \"sequential\"\n",
      "_________________________________________________________________\n",
      "Layer (type)                 Output Shape              Param #   \n",
      "=================================================================\n",
      "conv2d (Conv2D)              (None, 30, 30, 64)        1792      \n",
      "_________________________________________________________________\n",
      "max_pooling2d (MaxPooling2D) (None, 15, 15, 64)        0         \n",
      "_________________________________________________________________\n",
      "conv2d_1 (Conv2D)            (None, 13, 13, 64)        36928     \n",
      "_________________________________________________________________\n",
      "max_pooling2d_1 (MaxPooling2 (None, 7, 7, 64)          0         \n",
      "_________________________________________________________________\n",
      "conv2d_2 (Conv2D)            (None, 5, 5, 128)         73856     \n",
      "_________________________________________________________________\n",
      "max_pooling2d_2 (MaxPooling2 (None, 3, 3, 128)         0         \n",
      "_________________________________________________________________\n",
      "conv2d_3 (Conv2D)            (None, 1, 1, 128)         147584    \n",
      "_________________________________________________________________\n",
      "max_pooling2d_3 (MaxPooling2 (None, 1, 1, 128)         0         \n",
      "_________________________________________________________________\n",
      "flatten (Flatten)            (None, 128)               0         \n",
      "_________________________________________________________________\n",
      "dropout (Dropout)            (None, 128)               0         \n",
      "_________________________________________________________________\n",
      "dense (Dense)                (None, 512)               66048     \n",
      "_________________________________________________________________\n",
      "dense_1 (Dense)              (None, 43)                22059     \n",
      "=================================================================\n",
      "Total params: 348,267\n",
      "Trainable params: 348,267\n",
      "Non-trainable params: 0\n",
      "_________________________________________________________________\n"
     ]
    }
   ],
   "source": [
    "model.summary()"
   ]
  },
  {
   "cell_type": "code",
   "execution_count": 29,
   "metadata": {},
   "outputs": [
    {
     "data": {
      "image/png": "[encoded data removed]",
      "text/plain": [
       "<IPython.core.display.Image object>"
      ]
     },
     "execution_count": 29,
     "metadata": {},
     "output_type": "execute_result"
    }
   ],
   "source": [
    "tf.keras.utils.plot_model(\n",
    "    model,\n",
    "    show_shapes=True,\n",
    "    show_layer_names=True,\n",
    ")"
   ]
  },
  {
   "cell_type": "markdown",
   "metadata": {},
   "source": [
    "#### Compile Model"
   ]
  },
  {
   "cell_type": "code",
   "execution_count": 30,
   "metadata": {},
   "outputs": [],
   "source": [
    "adam_optimizer = tf.keras.optimizers.Adam(learning_rate=0.001)\n",
    "\n",
    "model.compile(\n",
    "    optimizer=adam_optimizer,\n",
    "    loss=tf.keras.losses.sparse_categorical_crossentropy,\n",
    "    metrics=['accuracy']\n",
    ")"
   ]
  },
  {
   "cell_type": "markdown",
   "metadata": {},
   "source": [
    "#### Prepare callbacks/tensorboard"
   ]
  },
  {
   "cell_type": "code",
   "execution_count": 31,
   "metadata": {},
   "outputs": [],
   "source": [
    "steps_per_epoch = len(shuffled_train) // 32\n",
    "validation_steps = len(shuffled_test) // 32"
   ]
  },
  {
   "cell_type": "code",
   "execution_count": 32,
   "metadata": {},
   "outputs": [
    {
     "name": "stderr",
     "output_type": "stream",
     "text": [
      "The system cannot find the file specified.\n"
     ]
    }
   ],
   "source": [
    "!rd /s /q \"tmp/checkpoints\"\n",
    "!rd /s /q logs"
   ]
  },
  {
   "cell_type": "code",
   "execution_count": 33,
   "metadata": {},
   "outputs": [],
   "source": [
    "# Preparing callbacks.\n",
    "os.makedirs('logs/fit', exist_ok=True)\n",
    "tensorboard_log_dir = 'logs/fit/' + datetime.datetime.now().strftime('%Y%m%d-%H%M%S')\n",
    "tensorboard_callback = tf.keras.callbacks.TensorBoard(\n",
    "    log_dir=tensorboard_log_dir,\n",
    "    histogram_freq=1\n",
    ")\n",
    "\n",
    "os.makedirs('tmp/checkpoints', exist_ok=True)\n",
    "model_checkpoint_callback = tf.keras.callbacks.ModelCheckpoint(\n",
    "    filepath='tmp/checkpoints/weights.{epoch:02d}-{val_loss:.2f}.hdf5'\n",
    ")\n",
    "\n",
    "early_stopping_callback = tf.keras.callbacks.EarlyStopping(\n",
    "    patience=5,\n",
    "    monitor='val_accuracy'\n",
    ")"
   ]
  },
  {
   "cell_type": "code",
   "execution_count": 34,
   "metadata": {
    "collapsed": true,
    "jupyter": {
     "outputs_hidden": true
    }
   },
   "outputs": [
    {
     "name": "stdout",
     "output_type": "stream",
     "text": [
      "Epoch 1/250\n",
      " 1/67 [..............................] - ETA: 0s - loss: 3.7688 - accuracy: 0.0312WARNING:tensorflow:From c:\\users\\kitthekat\\appdata\\local\\programs\\python\\python38\\lib\\site-packages\\tensorflow\\python\\ops\\summary_ops_v2.py:1277: stop (from tensorflow.python.eager.profiler) is deprecated and will be removed after 2020-07-01.\n",
      "Instructions for updating:\n",
      "use `tf.profiler.experimental.stop` instead.\n",
      " 2/67 [..............................] - ETA: 3s - loss: 3.7707 - accuracy: 0.0156WARNING:tensorflow:Callbacks method `on_train_batch_end` is slow compared to the batch time (batch time: 0.0030s vs `on_train_batch_end` time: 0.1007s). Check your callbacks.\n",
      "67/67 [==============================] - 1s 10ms/step - loss: 3.5744 - accuracy: 0.0494 - val_loss: 3.5213 - val_accuracy: 0.0573\n",
      "Epoch 2/250\n",
      "67/67 [==============================] - 0s 6ms/step - loss: 3.5078 - accuracy: 0.0508 - val_loss: 3.4799 - val_accuracy: 0.0911\n",
      "Epoch 3/250\n",
      "67/67 [==============================] - 0s 6ms/step - loss: 3.3541 - accuracy: 0.0993 - val_loss: 3.1826 - val_accuracy: 0.1042\n",
      "Epoch 4/250\n",
      "67/67 [==============================] - 0s 6ms/step - loss: 2.9135 - accuracy: 0.1772 - val_loss: 2.6009 - val_accuracy: 0.2031\n",
      "Epoch 5/250\n",
      "67/67 [==============================] - 0s 6ms/step - loss: 2.4906 - accuracy: 0.2561 - val_loss: 2.2296 - val_accuracy: 0.3125\n",
      "Epoch 6/250\n",
      "67/67 [==============================] - 0s 6ms/step - loss: 2.1644 - accuracy: 0.3088 - val_loss: 2.0004 - val_accuracy: 0.3724\n",
      "Epoch 7/250\n",
      "67/67 [==============================] - 0s 6ms/step - loss: 2.0867 - accuracy: 0.3330 - val_loss: 1.9349 - val_accuracy: 0.3646\n",
      "Epoch 8/250\n",
      "67/67 [==============================] - 0s 6ms/step - loss: 1.9163 - accuracy: 0.3736 - val_loss: 1.8407 - val_accuracy: 0.4167\n",
      "Epoch 9/250\n",
      "67/67 [==============================] - 0s 6ms/step - loss: 1.8815 - accuracy: 0.3764 - val_loss: 1.8063 - val_accuracy: 0.3932\n",
      "Epoch 10/250\n",
      "67/67 [==============================] - 0s 5ms/step - loss: 1.7466 - accuracy: 0.4188 - val_loss: 1.6488 - val_accuracy: 0.4010\n",
      "Epoch 11/250\n",
      "67/67 [==============================] - 0s 5ms/step - loss: 1.7019 - accuracy: 0.4300 - val_loss: 1.6245 - val_accuracy: 0.4740\n",
      "Epoch 12/250\n",
      "67/67 [==============================] - 0s 5ms/step - loss: 1.6565 - accuracy: 0.4384 - val_loss: 1.5102 - val_accuracy: 0.5000\n",
      "Epoch 13/250\n",
      "67/67 [==============================] - 0s 5ms/step - loss: 1.5889 - accuracy: 0.4650 - val_loss: 1.5028 - val_accuracy: 0.4714\n",
      "Epoch 14/250\n",
      "67/67 [==============================] - 0s 5ms/step - loss: 1.4683 - accuracy: 0.5084 - val_loss: 1.3597 - val_accuracy: 0.5911\n",
      "Epoch 15/250\n",
      "67/67 [==============================] - 0s 5ms/step - loss: 1.4214 - accuracy: 0.5210 - val_loss: 1.2250 - val_accuracy: 0.5781\n",
      "Epoch 16/250\n",
      "67/67 [==============================] - 0s 6ms/step - loss: 1.4111 - accuracy: 0.5177 - val_loss: 1.1393 - val_accuracy: 0.6276\n",
      "Epoch 17/250\n",
      "67/67 [==============================] - 0s 5ms/step - loss: 1.3163 - accuracy: 0.5387 - val_loss: 1.1238 - val_accuracy: 0.6120\n",
      "Epoch 18/250\n",
      "67/67 [==============================] - 0s 5ms/step - loss: 1.1983 - accuracy: 0.5863 - val_loss: 1.0148 - val_accuracy: 0.6354\n",
      "Epoch 19/250\n",
      "67/67 [==============================] - 0s 5ms/step - loss: 1.1895 - accuracy: 0.5835 - val_loss: 0.9426 - val_accuracy: 0.6771\n",
      "Epoch 20/250\n",
      "67/67 [==============================] - 0s 5ms/step - loss: 1.1034 - accuracy: 0.6115 - val_loss: 0.8868 - val_accuracy: 0.7031\n",
      "Epoch 21/250\n",
      "67/67 [==============================] - 0s 5ms/step - loss: 1.0661 - accuracy: 0.6381 - val_loss: 0.8293 - val_accuracy: 0.7240\n",
      "Epoch 22/250\n",
      "67/67 [==============================] - 0s 5ms/step - loss: 1.0127 - accuracy: 0.6521 - val_loss: 0.8328 - val_accuracy: 0.7240\n",
      "Epoch 23/250\n",
      "67/67 [==============================] - 0s 5ms/step - loss: 0.9952 - accuracy: 0.6553 - val_loss: 0.8305 - val_accuracy: 0.7135\n",
      "Epoch 24/250\n",
      "67/67 [==============================] - 0s 5ms/step - loss: 0.9171 - accuracy: 0.6707 - val_loss: 0.7000 - val_accuracy: 0.7656\n",
      "Epoch 25/250\n",
      "67/67 [==============================] - 0s 5ms/step - loss: 0.8888 - accuracy: 0.6824 - val_loss: 0.6924 - val_accuracy: 0.7656\n",
      "Epoch 26/250\n",
      "67/67 [==============================] - 0s 5ms/step - loss: 0.7950 - accuracy: 0.7150 - val_loss: 0.6763 - val_accuracy: 0.8021\n",
      "Epoch 27/250\n",
      "67/67 [==============================] - 0s 5ms/step - loss: 0.8687 - accuracy: 0.6945 - val_loss: 0.7481 - val_accuracy: 0.7630\n",
      "Epoch 28/250\n",
      "67/67 [==============================] - 0s 5ms/step - loss: 0.8136 - accuracy: 0.7313 - val_loss: 0.5788 - val_accuracy: 0.8255\n",
      "Epoch 29/250\n",
      "67/67 [==============================] - 0s 5ms/step - loss: 0.8161 - accuracy: 0.7211 - val_loss: 0.5586 - val_accuracy: 0.8281\n",
      "Epoch 30/250\n",
      "67/67 [==============================] - 0s 5ms/step - loss: 0.7601 - accuracy: 0.7374 - val_loss: 0.5395 - val_accuracy: 0.8281\n",
      "Epoch 31/250\n",
      "67/67 [==============================] - 0s 5ms/step - loss: 0.7269 - accuracy: 0.7509 - val_loss: 0.5641 - val_accuracy: 0.8255\n",
      "Epoch 32/250\n",
      "67/67 [==============================] - 0s 6ms/step - loss: 0.7394 - accuracy: 0.7439 - val_loss: 0.5516 - val_accuracy: 0.8281\n",
      "Epoch 33/250\n",
      "67/67 [==============================] - 7s 101ms/step - loss: 0.7137 - accuracy: 0.7442 - val_loss: 0.5163 - val_accuracy: 0.8333\n",
      "Epoch 34/250\n",
      "67/67 [==============================] - 0s 5ms/step - loss: 0.6827 - accuracy: 0.7766 - val_loss: 0.5102 - val_accuracy: 0.8307\n",
      "Epoch 35/250\n",
      "67/67 [==============================] - 0s 5ms/step - loss: 0.6444 - accuracy: 0.7957 - val_loss: 0.4666 - val_accuracy: 0.8490\n",
      "Epoch 36/250\n",
      "67/67 [==============================] - 0s 5ms/step - loss: 0.6616 - accuracy: 0.7808 - val_loss: 0.4541 - val_accuracy: 0.8620\n",
      "Epoch 37/250\n",
      "67/67 [==============================] - 0s 5ms/step - loss: 0.6562 - accuracy: 0.7817 - val_loss: 0.4908 - val_accuracy: 0.8411\n",
      "Epoch 38/250\n",
      "67/67 [==============================] - 0s 5ms/step - loss: 0.5873 - accuracy: 0.7957 - val_loss: 0.4412 - val_accuracy: 0.8698\n",
      "Epoch 39/250\n",
      "67/67 [==============================] - 0s 5ms/step - loss: 0.6128 - accuracy: 0.7854 - val_loss: 0.4852 - val_accuracy: 0.8464\n",
      "Epoch 40/250\n",
      "67/67 [==============================] - 0s 5ms/step - loss: 0.5750 - accuracy: 0.7920 - val_loss: 0.4357 - val_accuracy: 0.8516\n",
      "Epoch 41/250\n",
      "67/67 [==============================] - 0s 5ms/step - loss: 0.5295 - accuracy: 0.8209 - val_loss: 0.4221 - val_accuracy: 0.8568\n",
      "Epoch 42/250\n",
      "67/67 [==============================] - 0s 5ms/step - loss: 0.5882 - accuracy: 0.8004 - val_loss: 0.4596 - val_accuracy: 0.8281\n",
      "Epoch 43/250\n",
      "67/67 [==============================] - 0s 5ms/step - loss: 0.5645 - accuracy: 0.8046 - val_loss: 0.3860 - val_accuracy: 0.8854\n",
      "Epoch 44/250\n",
      "67/67 [==============================] - 0s 5ms/step - loss: 0.5303 - accuracy: 0.8162 - val_loss: 0.4076 - val_accuracy: 0.8542\n",
      "Epoch 45/250\n",
      "67/67 [==============================] - 0s 5ms/step - loss: 0.5008 - accuracy: 0.8246 - val_loss: 0.3477 - val_accuracy: 0.8802\n",
      "Epoch 46/250\n",
      "67/67 [==============================] - 0s 5ms/step - loss: 0.4818 - accuracy: 0.8475 - val_loss: 0.3662 - val_accuracy: 0.8750\n",
      "Epoch 47/250\n",
      "67/67 [==============================] - 0s 5ms/step - loss: 0.5147 - accuracy: 0.8298 - val_loss: 0.3523 - val_accuracy: 0.8802\n",
      "Epoch 48/250\n",
      "67/67 [==============================] - 0s 5ms/step - loss: 0.5463 - accuracy: 0.8153 - val_loss: 0.3530 - val_accuracy: 0.8672\n",
      "Epoch 49/250\n",
      "67/67 [==============================] - 0s 5ms/step - loss: 0.5360 - accuracy: 0.8298 - val_loss: 0.3362 - val_accuracy: 0.8906\n",
      "Epoch 50/250\n",
      "67/67 [==============================] - 0s 5ms/step - loss: 0.4683 - accuracy: 0.8391 - val_loss: 0.3683 - val_accuracy: 0.8672\n",
      "Epoch 51/250\n",
      "67/67 [==============================] - 0s 5ms/step - loss: 0.5161 - accuracy: 0.8218 - val_loss: 0.3957 - val_accuracy: 0.8724\n",
      "Epoch 52/250\n",
      "67/67 [==============================] - 0s 5ms/step - loss: 0.4710 - accuracy: 0.8438 - val_loss: 0.3415 - val_accuracy: 0.8932\n",
      "Epoch 53/250\n",
      "67/67 [==============================] - 0s 5ms/step - loss: 0.4540 - accuracy: 0.8386 - val_loss: 0.3454 - val_accuracy: 0.8672\n",
      "Epoch 54/250\n",
      "67/67 [==============================] - 0s 5ms/step - loss: 0.4487 - accuracy: 0.8447 - val_loss: 0.2698 - val_accuracy: 0.8932\n",
      "Epoch 55/250\n",
      "67/67 [==============================] - 0s 5ms/step - loss: 0.4337 - accuracy: 0.8549 - val_loss: 0.2957 - val_accuracy: 0.9062\n",
      "Epoch 56/250\n",
      "67/67 [==============================] - 0s 6ms/step - loss: 0.4351 - accuracy: 0.8442 - val_loss: 0.3739 - val_accuracy: 0.8906\n",
      "Epoch 57/250\n",
      "67/67 [==============================] - 0s 5ms/step - loss: 0.4117 - accuracy: 0.8708 - val_loss: 0.3550 - val_accuracy: 0.8620\n",
      "Epoch 58/250\n",
      "67/67 [==============================] - 0s 5ms/step - loss: 0.4218 - accuracy: 0.8549 - val_loss: 0.3258 - val_accuracy: 0.8854\n",
      "Epoch 59/250\n",
      "67/67 [==============================] - 0s 5ms/step - loss: 0.3710 - accuracy: 0.8666 - val_loss: 0.2842 - val_accuracy: 0.8958\n",
      "Epoch 60/250\n",
      "67/67 [==============================] - 0s 5ms/step - loss: 0.4126 - accuracy: 0.8610 - val_loss: 0.3257 - val_accuracy: 0.8776\n",
      "Epoch 61/250\n",
      "67/67 [==============================] - 0s 5ms/step - loss: 0.4179 - accuracy: 0.8624 - val_loss: 0.2936 - val_accuracy: 0.8958\n",
      "Epoch 62/250\n",
      "67/67 [==============================] - 0s 5ms/step - loss: 0.3672 - accuracy: 0.8815 - val_loss: 0.3037 - val_accuracy: 0.8958\n",
      "Epoch 63/250\n",
      "67/67 [==============================] - 0s 5ms/step - loss: 0.3684 - accuracy: 0.8792 - val_loss: 0.3162 - val_accuracy: 0.8828\n",
      "Epoch 64/250\n",
      "67/67 [==============================] - 0s 6ms/step - loss: 0.4018 - accuracy: 0.8647 - val_loss: 0.3389 - val_accuracy: 0.8698\n",
      "Epoch 65/250\n",
      "67/67 [==============================] - 7s 100ms/step - loss: 0.4532 - accuracy: 0.8478 - val_loss: 0.2782 - val_accuracy: 0.8984\n",
      "Epoch 66/250\n",
      "67/67 [==============================] - 0s 5ms/step - loss: 0.3548 - accuracy: 0.8764 - val_loss: 0.2887 - val_accuracy: 0.9062\n",
      "Epoch 67/250\n",
      "67/67 [==============================] - 0s 5ms/step - loss: 0.3701 - accuracy: 0.8750 - val_loss: 0.3110 - val_accuracy: 0.9062\n",
      "Epoch 68/250\n",
      "67/67 [==============================] - 0s 5ms/step - loss: 0.3881 - accuracy: 0.8717 - val_loss: 0.2780 - val_accuracy: 0.9062\n",
      "Epoch 69/250\n",
      "67/67 [==============================] - 0s 5ms/step - loss: 0.3732 - accuracy: 0.8750 - val_loss: 0.2901 - val_accuracy: 0.8958\n",
      "Epoch 70/250\n",
      "67/67 [==============================] - 0s 5ms/step - loss: 0.3383 - accuracy: 0.8862 - val_loss: 0.2981 - val_accuracy: 0.8854\n",
      "Epoch 71/250\n",
      "67/67 [==============================] - 0s 5ms/step - loss: 0.3252 - accuracy: 0.8806 - val_loss: 0.2872 - val_accuracy: 0.9036\n",
      "Epoch 72/250\n",
      "67/67 [==============================] - 0s 5ms/step - loss: 0.3156 - accuracy: 0.8937 - val_loss: 0.3051 - val_accuracy: 0.9062\n",
      "Epoch 73/250\n",
      "67/67 [==============================] - 0s 6ms/step - loss: 0.3316 - accuracy: 0.8829 - val_loss: 0.2396 - val_accuracy: 0.9115\n",
      "Epoch 74/250\n",
      "67/67 [==============================] - 0s 6ms/step - loss: 0.3427 - accuracy: 0.8825 - val_loss: 0.2978 - val_accuracy: 0.8984\n",
      "Epoch 75/250\n",
      "67/67 [==============================] - 0s 6ms/step - loss: 0.3424 - accuracy: 0.8871 - val_loss: 0.3029 - val_accuracy: 0.8880\n",
      "Epoch 76/250\n",
      "67/67 [==============================] - 0s 6ms/step - loss: 0.3324 - accuracy: 0.8913 - val_loss: 0.2354 - val_accuracy: 0.9141\n",
      "Epoch 77/250\n",
      "67/67 [==============================] - 0s 5ms/step - loss: 0.3417 - accuracy: 0.8937 - val_loss: 0.2590 - val_accuracy: 0.9036\n",
      "Epoch 78/250\n",
      "67/67 [==============================] - 0s 5ms/step - loss: 0.3022 - accuracy: 0.8941 - val_loss: 0.2467 - val_accuracy: 0.9036\n",
      "Epoch 79/250\n",
      "67/67 [==============================] - 0s 5ms/step - loss: 0.3202 - accuracy: 0.8918 - val_loss: 0.2227 - val_accuracy: 0.9167\n",
      "Epoch 80/250\n",
      "67/67 [==============================] - 0s 6ms/step - loss: 0.3079 - accuracy: 0.8974 - val_loss: 0.2331 - val_accuracy: 0.9193\n",
      "Epoch 81/250\n",
      "67/67 [==============================] - 0s 6ms/step - loss: 0.3547 - accuracy: 0.8862 - val_loss: 0.2576 - val_accuracy: 0.9089\n",
      "Epoch 82/250\n",
      "67/67 [==============================] - 0s 5ms/step - loss: 0.3074 - accuracy: 0.8988 - val_loss: 0.2395 - val_accuracy: 0.9062\n",
      "Epoch 83/250\n",
      "67/67 [==============================] - 0s 6ms/step - loss: 0.3528 - accuracy: 0.8857 - val_loss: 0.2022 - val_accuracy: 0.9219\n",
      "Epoch 84/250\n",
      "67/67 [==============================] - 0s 5ms/step - loss: 0.3004 - accuracy: 0.8979 - val_loss: 0.2592 - val_accuracy: 0.9193\n",
      "Epoch 85/250\n",
      "67/67 [==============================] - 0s 5ms/step - loss: 0.2920 - accuracy: 0.9095 - val_loss: 0.2446 - val_accuracy: 0.9167\n",
      "Epoch 86/250\n",
      "67/67 [==============================] - 0s 5ms/step - loss: 0.3136 - accuracy: 0.8960 - val_loss: 0.2212 - val_accuracy: 0.9115\n",
      "Epoch 87/250\n",
      "67/67 [==============================] - 0s 5ms/step - loss: 0.3209 - accuracy: 0.8913 - val_loss: 0.2833 - val_accuracy: 0.8932\n",
      "Epoch 88/250\n",
      "67/67 [==============================] - 0s 5ms/step - loss: 0.3096 - accuracy: 0.8969 - val_loss: 0.2294 - val_accuracy: 0.9193\n",
      "Epoch 89/250\n",
      "67/67 [==============================] - 0s 6ms/step - loss: 0.2862 - accuracy: 0.9072 - val_loss: 0.2026 - val_accuracy: 0.9323\n",
      "Epoch 90/250\n",
      "67/67 [==============================] - 0s 5ms/step - loss: 0.2962 - accuracy: 0.8965 - val_loss: 0.2513 - val_accuracy: 0.9167\n",
      "Epoch 91/250\n",
      "67/67 [==============================] - 0s 5ms/step - loss: 0.2793 - accuracy: 0.9109 - val_loss: 0.2212 - val_accuracy: 0.9167\n",
      "Epoch 92/250\n",
      "67/67 [==============================] - 0s 5ms/step - loss: 0.3074 - accuracy: 0.9002 - val_loss: 0.2134 - val_accuracy: 0.9323\n",
      "Epoch 93/250\n",
      "67/67 [==============================] - 0s 6ms/step - loss: 0.2724 - accuracy: 0.9062 - val_loss: 0.2309 - val_accuracy: 0.9141\n",
      "Epoch 94/250\n",
      "67/67 [==============================] - 0s 5ms/step - loss: 0.2893 - accuracy: 0.9011 - val_loss: 0.1794 - val_accuracy: 0.9323\n",
      "Epoch 95/250\n",
      "67/67 [==============================] - 0s 6ms/step - loss: 0.2746 - accuracy: 0.9095 - val_loss: 0.2106 - val_accuracy: 0.9401\n",
      "Epoch 96/250\n",
      "67/67 [==============================] - 0s 6ms/step - loss: 0.2957 - accuracy: 0.9067 - val_loss: 0.2249 - val_accuracy: 0.9219\n",
      "Epoch 97/250\n",
      "67/67 [==============================] - 0s 6ms/step - loss: 0.2804 - accuracy: 0.9095 - val_loss: 0.2246 - val_accuracy: 0.9271\n",
      "Epoch 98/250\n",
      "67/67 [==============================] - 7s 102ms/step - loss: 0.2803 - accuracy: 0.9034 - val_loss: 0.1866 - val_accuracy: 0.9271\n",
      "Epoch 99/250\n",
      "67/67 [==============================] - 0s 6ms/step - loss: 0.2457 - accuracy: 0.9198 - val_loss: 0.2204 - val_accuracy: 0.9193\n",
      "Epoch 100/250\n",
      "67/67 [==============================] - 0s 6ms/step - loss: 0.2636 - accuracy: 0.9142 - val_loss: 0.1779 - val_accuracy: 0.9349\n",
      "Epoch 101/250\n",
      "67/67 [==============================] - 0s 5ms/step - loss: 0.2771 - accuracy: 0.9142 - val_loss: 0.1843 - val_accuracy: 0.9401\n",
      "Epoch 102/250\n",
      "67/67 [==============================] - 0s 5ms/step - loss: 0.2422 - accuracy: 0.9174 - val_loss: 0.2024 - val_accuracy: 0.9245\n",
      "Epoch 103/250\n",
      "67/67 [==============================] - 0s 5ms/step - loss: 0.2497 - accuracy: 0.9146 - val_loss: 0.2073 - val_accuracy: 0.9297\n",
      "Epoch 104/250\n",
      "67/67 [==============================] - 0s 5ms/step - loss: 0.2333 - accuracy: 0.9263 - val_loss: 0.1951 - val_accuracy: 0.9349\n",
      "Epoch 105/250\n",
      "67/67 [==============================] - 0s 5ms/step - loss: 0.2634 - accuracy: 0.9132 - val_loss: 0.1830 - val_accuracy: 0.9323\n",
      "Epoch 106/250\n",
      "67/67 [==============================] - 0s 5ms/step - loss: 0.2176 - accuracy: 0.9249 - val_loss: 0.2010 - val_accuracy: 0.9297\n",
      "Epoch 107/250\n",
      "67/67 [==============================] - 0s 5ms/step - loss: 0.2244 - accuracy: 0.9235 - val_loss: 0.2233 - val_accuracy: 0.9349\n",
      "Epoch 108/250\n",
      "67/67 [==============================] - 0s 5ms/step - loss: 0.2366 - accuracy: 0.9230 - val_loss: 0.2384 - val_accuracy: 0.9271\n",
      "Epoch 109/250\n",
      "67/67 [==============================] - 0s 5ms/step - loss: 0.2416 - accuracy: 0.9216 - val_loss: 0.1831 - val_accuracy: 0.9453\n",
      "Epoch 110/250\n",
      "67/67 [==============================] - 0s 5ms/step - loss: 0.2227 - accuracy: 0.9263 - val_loss: 0.2078 - val_accuracy: 0.9323\n",
      "Epoch 111/250\n",
      "67/67 [==============================] - 0s 5ms/step - loss: 0.2464 - accuracy: 0.9184 - val_loss: 0.2037 - val_accuracy: 0.9375\n",
      "Epoch 112/250\n",
      "67/67 [==============================] - 0s 5ms/step - loss: 0.2366 - accuracy: 0.9258 - val_loss: 0.2119 - val_accuracy: 0.9297\n",
      "Epoch 113/250\n",
      "67/67 [==============================] - 0s 5ms/step - loss: 0.2736 - accuracy: 0.9081 - val_loss: 0.2177 - val_accuracy: 0.9297\n",
      "Epoch 114/250\n",
      "67/67 [==============================] - 0s 6ms/step - loss: 0.2172 - accuracy: 0.9240 - val_loss: 0.2397 - val_accuracy: 0.9297\n",
      "Epoch 115/250\n",
      "67/67 [==============================] - 0s 5ms/step - loss: 0.2122 - accuracy: 0.9347 - val_loss: 0.2103 - val_accuracy: 0.9193\n",
      "Epoch 116/250\n",
      "67/67 [==============================] - 0s 5ms/step - loss: 0.2402 - accuracy: 0.9272 - val_loss: 0.2080 - val_accuracy: 0.9245\n",
      "Epoch 117/250\n",
      "67/67 [==============================] - 0s 5ms/step - loss: 0.2652 - accuracy: 0.9151 - val_loss: 0.2386 - val_accuracy: 0.9271\n",
      "Epoch 118/250\n",
      "67/67 [==============================] - 0s 5ms/step - loss: 0.2383 - accuracy: 0.9240 - val_loss: 0.2037 - val_accuracy: 0.9349\n",
      "Epoch 119/250\n",
      "67/67 [==============================] - 0s 5ms/step - loss: 0.2180 - accuracy: 0.9174 - val_loss: 0.2489 - val_accuracy: 0.9193\n",
      "Epoch 120/250\n",
      "67/67 [==============================] - 0s 5ms/step - loss: 0.2271 - accuracy: 0.9300 - val_loss: 0.2321 - val_accuracy: 0.9141\n",
      "Epoch 121/250\n",
      "67/67 [==============================] - 0s 5ms/step - loss: 0.1972 - accuracy: 0.9277 - val_loss: 0.2368 - val_accuracy: 0.9245\n",
      "Epoch 122/250\n",
      "67/67 [==============================] - 0s 5ms/step - loss: 0.2402 - accuracy: 0.9179 - val_loss: 0.2797 - val_accuracy: 0.9036\n",
      "Epoch 123/250\n",
      "67/67 [==============================] - 0s 5ms/step - loss: 0.2446 - accuracy: 0.9151 - val_loss: 0.2802 - val_accuracy: 0.9167\n",
      "Epoch 124/250\n",
      "67/67 [==============================] - 0s 5ms/step - loss: 0.2365 - accuracy: 0.9226 - val_loss: 0.1876 - val_accuracy: 0.9323\n",
      "Epoch 125/250\n",
      "67/67 [==============================] - 0s 5ms/step - loss: 0.2737 - accuracy: 0.9100 - val_loss: 0.1921 - val_accuracy: 0.9245\n",
      "Epoch 126/250\n",
      "67/67 [==============================] - 0s 5ms/step - loss: 0.2064 - accuracy: 0.9277 - val_loss: 0.2187 - val_accuracy: 0.9219\n",
      "Epoch 127/250\n",
      "67/67 [==============================] - 0s 5ms/step - loss: 0.2218 - accuracy: 0.9282 - val_loss: 0.2060 - val_accuracy: 0.9167\n",
      "Epoch 128/250\n",
      "67/67 [==============================] - 0s 5ms/step - loss: 0.2123 - accuracy: 0.9305 - val_loss: 0.1833 - val_accuracy: 0.9245\n",
      "Epoch 129/250\n",
      "67/67 [==============================] - 0s 6ms/step - loss: 0.2401 - accuracy: 0.9212 - val_loss: 0.1993 - val_accuracy: 0.9219\n",
      "Epoch 130/250\n",
      "67/67 [==============================] - 7s 101ms/step - loss: 0.2034 - accuracy: 0.9276 - val_loss: 0.1768 - val_accuracy: 0.9349\n",
      "Epoch 131/250\n",
      "67/67 [==============================] - 0s 5ms/step - loss: 0.1883 - accuracy: 0.9324 - val_loss: 0.1906 - val_accuracy: 0.9271\n",
      "Epoch 132/250\n",
      "67/67 [==============================] - 0s 6ms/step - loss: 0.2102 - accuracy: 0.9300 - val_loss: 0.1968 - val_accuracy: 0.9297\n",
      "Epoch 133/250\n",
      "67/67 [==============================] - 0s 5ms/step - loss: 0.1897 - accuracy: 0.9352 - val_loss: 0.2220 - val_accuracy: 0.9323\n",
      "Epoch 134/250\n",
      "67/67 [==============================] - 0s 5ms/step - loss: 0.1822 - accuracy: 0.9398 - val_loss: 0.1987 - val_accuracy: 0.9401\n",
      "Epoch 135/250\n",
      "67/67 [==============================] - 0s 5ms/step - loss: 0.1856 - accuracy: 0.9370 - val_loss: 0.1877 - val_accuracy: 0.9245\n",
      "Epoch 136/250\n",
      "67/67 [==============================] - 0s 5ms/step - loss: 0.2011 - accuracy: 0.9254 - val_loss: 0.1646 - val_accuracy: 0.9349\n",
      "Epoch 137/250\n",
      "67/67 [==============================] - 0s 5ms/step - loss: 0.2129 - accuracy: 0.9258 - val_loss: 0.2123 - val_accuracy: 0.9349\n",
      "Epoch 138/250\n",
      "67/67 [==============================] - 0s 5ms/step - loss: 0.2352 - accuracy: 0.9254 - val_loss: 0.1832 - val_accuracy: 0.9349\n",
      "Epoch 139/250\n",
      "67/67 [==============================] - 0s 5ms/step - loss: 0.2263 - accuracy: 0.9277 - val_loss: 0.1771 - val_accuracy: 0.9453\n",
      "Epoch 140/250\n",
      "67/67 [==============================] - 0s 5ms/step - loss: 0.1667 - accuracy: 0.9459 - val_loss: 0.1701 - val_accuracy: 0.9375\n",
      "Epoch 141/250\n",
      "67/67 [==============================] - 0s 5ms/step - loss: 0.2070 - accuracy: 0.9389 - val_loss: 0.1990 - val_accuracy: 0.9271\n",
      "Epoch 142/250\n",
      "67/67 [==============================] - 0s 5ms/step - loss: 0.1702 - accuracy: 0.9454 - val_loss: 0.1963 - val_accuracy: 0.9375\n",
      "Epoch 143/250\n",
      "67/67 [==============================] - 0s 5ms/step - loss: 0.1908 - accuracy: 0.9389 - val_loss: 0.2569 - val_accuracy: 0.9062\n",
      "Epoch 144/250\n",
      "67/67 [==============================] - 0s 6ms/step - loss: 0.2108 - accuracy: 0.9305 - val_loss: 0.1850 - val_accuracy: 0.9349\n",
      "Epoch 145/250\n",
      "67/67 [==============================] - 0s 5ms/step - loss: 0.1505 - accuracy: 0.9482 - val_loss: 0.2108 - val_accuracy: 0.9427\n",
      "Epoch 146/250\n",
      "67/67 [==============================] - 0s 6ms/step - loss: 0.2096 - accuracy: 0.9342 - val_loss: 0.1959 - val_accuracy: 0.9401\n",
      "Epoch 147/250\n",
      "67/67 [==============================] - 0s 5ms/step - loss: 0.1643 - accuracy: 0.9478 - val_loss: 0.1893 - val_accuracy: 0.9323\n",
      "Epoch 148/250\n",
      "67/67 [==============================] - 0s 6ms/step - loss: 0.2145 - accuracy: 0.9314 - val_loss: 0.2037 - val_accuracy: 0.9401\n",
      "Epoch 149/250\n",
      "67/67 [==============================] - 0s 6ms/step - loss: 0.1869 - accuracy: 0.9375 - val_loss: 0.2155 - val_accuracy: 0.9323\n",
      "Epoch 150/250\n",
      "67/67 [==============================] - 0s 5ms/step - loss: 0.1930 - accuracy: 0.9305 - val_loss: 0.1760 - val_accuracy: 0.9453\n",
      "Epoch 151/250\n",
      "67/67 [==============================] - 0s 5ms/step - loss: 0.1818 - accuracy: 0.9459 - val_loss: 0.2284 - val_accuracy: 0.9219\n",
      "Epoch 152/250\n",
      "67/67 [==============================] - 0s 5ms/step - loss: 0.1978 - accuracy: 0.9412 - val_loss: 0.1664 - val_accuracy: 0.9453\n",
      "Epoch 153/250\n",
      "67/67 [==============================] - 0s 5ms/step - loss: 0.1815 - accuracy: 0.9394 - val_loss: 0.2234 - val_accuracy: 0.9141\n",
      "Epoch 154/250\n",
      "67/67 [==============================] - 0s 5ms/step - loss: 0.1751 - accuracy: 0.9384 - val_loss: 0.1743 - val_accuracy: 0.9427\n",
      "Epoch 155/250\n",
      "67/67 [==============================] - 0s 5ms/step - loss: 0.1715 - accuracy: 0.9473 - val_loss: 0.1961 - val_accuracy: 0.9401\n",
      "Epoch 156/250\n",
      "67/67 [==============================] - 0s 5ms/step - loss: 0.1929 - accuracy: 0.9384 - val_loss: 0.1960 - val_accuracy: 0.9349\n",
      "Epoch 157/250\n",
      "67/67 [==============================] - 0s 5ms/step - loss: 0.2078 - accuracy: 0.9338 - val_loss: 0.1729 - val_accuracy: 0.9401\n",
      "Epoch 158/250\n",
      "67/67 [==============================] - 0s 5ms/step - loss: 0.1943 - accuracy: 0.9384 - val_loss: 0.1485 - val_accuracy: 0.9375\n",
      "Epoch 159/250\n",
      "67/67 [==============================] - 0s 5ms/step - loss: 0.2008 - accuracy: 0.9426 - val_loss: 0.2333 - val_accuracy: 0.9167\n",
      "Epoch 160/250\n",
      "67/67 [==============================] - 0s 6ms/step - loss: 0.1784 - accuracy: 0.9422 - val_loss: 0.1642 - val_accuracy: 0.9375\n",
      "Epoch 161/250\n",
      "67/67 [==============================] - 0s 6ms/step - loss: 0.2169 - accuracy: 0.9328 - val_loss: 0.1571 - val_accuracy: 0.9453\n",
      "Epoch 162/250\n",
      "67/67 [==============================] - 0s 6ms/step - loss: 0.2019 - accuracy: 0.9370 - val_loss: 0.1909 - val_accuracy: 0.9271\n",
      "Epoch 163/250\n",
      "67/67 [==============================] - 7s 101ms/step - loss: 0.1876 - accuracy: 0.9426 - val_loss: 0.1982 - val_accuracy: 0.9323\n",
      "Epoch 164/250\n",
      "67/67 [==============================] - 0s 5ms/step - loss: 0.1787 - accuracy: 0.9342 - val_loss: 0.1896 - val_accuracy: 0.9323\n",
      "Epoch 165/250\n",
      "67/67 [==============================] - 0s 5ms/step - loss: 0.1866 - accuracy: 0.9403 - val_loss: 0.2065 - val_accuracy: 0.9219\n",
      "Epoch 166/250\n",
      "67/67 [==============================] - 0s 5ms/step - loss: 0.1718 - accuracy: 0.9440 - val_loss: 0.1861 - val_accuracy: 0.9245\n",
      "Epoch 167/250\n",
      "67/67 [==============================] - 0s 5ms/step - loss: 0.1601 - accuracy: 0.9487 - val_loss: 0.1972 - val_accuracy: 0.9349\n",
      "Epoch 168/250\n",
      "67/67 [==============================] - 0s 5ms/step - loss: 0.1941 - accuracy: 0.9370 - val_loss: 0.2346 - val_accuracy: 0.9245\n",
      "Epoch 169/250\n",
      "67/67 [==============================] - 0s 5ms/step - loss: 0.1554 - accuracy: 0.9454 - val_loss: 0.2418 - val_accuracy: 0.9297\n",
      "Epoch 170/250\n",
      "67/67 [==============================] - 0s 5ms/step - loss: 0.1537 - accuracy: 0.9478 - val_loss: 0.2452 - val_accuracy: 0.9219\n",
      "Epoch 171/250\n",
      "67/67 [==============================] - 0s 5ms/step - loss: 0.2003 - accuracy: 0.9352 - val_loss: 0.2252 - val_accuracy: 0.9375\n",
      "Epoch 172/250\n",
      "67/67 [==============================] - 0s 5ms/step - loss: 0.1849 - accuracy: 0.9426 - val_loss: 0.2126 - val_accuracy: 0.9323\n",
      "Epoch 173/250\n",
      "67/67 [==============================] - 0s 5ms/step - loss: 0.1740 - accuracy: 0.9412 - val_loss: 0.2564 - val_accuracy: 0.9193\n",
      "Epoch 174/250\n",
      "67/67 [==============================] - 0s 5ms/step - loss: 0.1753 - accuracy: 0.9403 - val_loss: 0.1958 - val_accuracy: 0.9271\n",
      "Epoch 175/250\n",
      "67/67 [==============================] - 0s 5ms/step - loss: 0.1791 - accuracy: 0.9398 - val_loss: 0.2489 - val_accuracy: 0.9271\n",
      "Epoch 176/250\n",
      "67/67 [==============================] - 0s 5ms/step - loss: 0.1984 - accuracy: 0.9384 - val_loss: 0.1622 - val_accuracy: 0.9401\n",
      "Epoch 177/250\n",
      "67/67 [==============================] - 0s 5ms/step - loss: 0.1858 - accuracy: 0.9394 - val_loss: 0.1906 - val_accuracy: 0.9323\n",
      "Epoch 178/250\n",
      "67/67 [==============================] - 0s 5ms/step - loss: 0.1502 - accuracy: 0.9520 - val_loss: 0.1994 - val_accuracy: 0.9401\n",
      "Epoch 179/250\n",
      "67/67 [==============================] - 0s 5ms/step - loss: 0.1559 - accuracy: 0.9492 - val_loss: 0.2001 - val_accuracy: 0.9323\n",
      "Epoch 180/250\n",
      "67/67 [==============================] - 0s 5ms/step - loss: 0.1893 - accuracy: 0.9431 - val_loss: 0.1374 - val_accuracy: 0.9505\n",
      "Epoch 181/250\n",
      "67/67 [==============================] - 0s 6ms/step - loss: 0.2105 - accuracy: 0.9338 - val_loss: 0.1708 - val_accuracy: 0.9349\n",
      "Epoch 182/250\n",
      "67/67 [==============================] - 0s 5ms/step - loss: 0.1727 - accuracy: 0.9450 - val_loss: 0.1847 - val_accuracy: 0.9453\n",
      "Epoch 183/250\n",
      "67/67 [==============================] - 0s 5ms/step - loss: 0.1974 - accuracy: 0.9408 - val_loss: 0.2047 - val_accuracy: 0.9297\n",
      "Epoch 184/250\n",
      "67/67 [==============================] - 0s 5ms/step - loss: 0.2050 - accuracy: 0.9342 - val_loss: 0.1617 - val_accuracy: 0.9479\n",
      "Epoch 185/250\n",
      "67/67 [==============================] - 0s 5ms/step - loss: 0.2004 - accuracy: 0.9342 - val_loss: 0.1561 - val_accuracy: 0.9401\n",
      "Epoch 186/250\n",
      "67/67 [==============================] - 0s 5ms/step - loss: 0.1731 - accuracy: 0.9440 - val_loss: 0.2443 - val_accuracy: 0.9115\n",
      "Epoch 187/250\n",
      "67/67 [==============================] - 0s 5ms/step - loss: 0.1670 - accuracy: 0.9445 - val_loss: 0.1637 - val_accuracy: 0.9323\n",
      "Epoch 188/250\n",
      "67/67 [==============================] - 0s 5ms/step - loss: 0.1621 - accuracy: 0.9487 - val_loss: 0.1702 - val_accuracy: 0.9401\n",
      "Epoch 189/250\n",
      "67/67 [==============================] - 0s 5ms/step - loss: 0.1784 - accuracy: 0.9394 - val_loss: 0.1560 - val_accuracy: 0.9531\n",
      "Epoch 190/250\n",
      "67/67 [==============================] - 0s 5ms/step - loss: 0.1711 - accuracy: 0.9487 - val_loss: 0.1571 - val_accuracy: 0.9479\n",
      "Epoch 191/250\n",
      "67/67 [==============================] - 0s 5ms/step - loss: 0.1453 - accuracy: 0.9524 - val_loss: 0.1695 - val_accuracy: 0.9401\n",
      "Epoch 192/250\n",
      "67/67 [==============================] - 0s 5ms/step - loss: 0.1587 - accuracy: 0.9468 - val_loss: 0.1877 - val_accuracy: 0.9375\n",
      "Epoch 193/250\n",
      "67/67 [==============================] - 0s 5ms/step - loss: 0.1691 - accuracy: 0.9464 - val_loss: 0.1937 - val_accuracy: 0.9427\n",
      "Epoch 194/250\n",
      "67/67 [==============================] - 0s 6ms/step - loss: 0.1553 - accuracy: 0.9534 - val_loss: 0.1780 - val_accuracy: 0.9453\n",
      "Epoch 195/250\n",
      "67/67 [==============================] - 7s 101ms/step - loss: 0.1784 - accuracy: 0.9379 - val_loss: 0.1964 - val_accuracy: 0.9427\n",
      "Epoch 196/250\n",
      "67/67 [==============================] - 0s 5ms/step - loss: 0.1603 - accuracy: 0.9417 - val_loss: 0.1879 - val_accuracy: 0.9401\n",
      "Epoch 197/250\n",
      "67/67 [==============================] - 0s 5ms/step - loss: 0.1880 - accuracy: 0.9412 - val_loss: 0.1881 - val_accuracy: 0.9323\n",
      "Epoch 198/250\n",
      "67/67 [==============================] - 0s 5ms/step - loss: 0.1477 - accuracy: 0.9538 - val_loss: 0.1848 - val_accuracy: 0.9375\n",
      "Epoch 199/250\n",
      "67/67 [==============================] - 0s 6ms/step - loss: 0.1750 - accuracy: 0.9473 - val_loss: 0.1992 - val_accuracy: 0.9323\n",
      "Epoch 200/250\n",
      "67/67 [==============================] - 0s 6ms/step - loss: 0.1412 - accuracy: 0.9543 - val_loss: 0.2098 - val_accuracy: 0.9349\n",
      "Epoch 201/250\n",
      "67/67 [==============================] - 0s 5ms/step - loss: 0.2104 - accuracy: 0.9361 - val_loss: 0.2419 - val_accuracy: 0.9297\n",
      "Epoch 202/250\n",
      "67/67 [==============================] - 0s 5ms/step - loss: 0.1470 - accuracy: 0.9492 - val_loss: 0.2128 - val_accuracy: 0.9297\n",
      "Epoch 203/250\n",
      "67/67 [==============================] - 0s 6ms/step - loss: 0.1595 - accuracy: 0.9454 - val_loss: 0.2401 - val_accuracy: 0.9375\n",
      "Epoch 204/250\n",
      "67/67 [==============================] - 0s 5ms/step - loss: 0.1560 - accuracy: 0.9487 - val_loss: 0.2172 - val_accuracy: 0.9375\n",
      "Epoch 205/250\n",
      "67/67 [==============================] - 0s 5ms/step - loss: 0.1604 - accuracy: 0.9520 - val_loss: 0.2160 - val_accuracy: 0.9375\n",
      "Epoch 206/250\n",
      "67/67 [==============================] - 0s 5ms/step - loss: 0.1306 - accuracy: 0.9580 - val_loss: 0.2547 - val_accuracy: 0.9193\n",
      "Epoch 207/250\n",
      "67/67 [==============================] - 0s 5ms/step - loss: 0.1825 - accuracy: 0.9412 - val_loss: 0.2479 - val_accuracy: 0.9245\n",
      "Epoch 208/250\n",
      "67/67 [==============================] - 0s 5ms/step - loss: 0.1583 - accuracy: 0.9487 - val_loss: 0.2125 - val_accuracy: 0.9245\n",
      "Epoch 209/250\n",
      "67/67 [==============================] - 0s 5ms/step - loss: 0.1425 - accuracy: 0.9524 - val_loss: 0.1760 - val_accuracy: 0.9453\n",
      "Epoch 210/250\n",
      "67/67 [==============================] - 0s 5ms/step - loss: 0.1372 - accuracy: 0.9566 - val_loss: 0.2052 - val_accuracy: 0.9427\n",
      "Epoch 211/250\n",
      "67/67 [==============================] - 0s 6ms/step - loss: 0.1625 - accuracy: 0.9440 - val_loss: 0.1868 - val_accuracy: 0.9219\n",
      "Epoch 212/250\n",
      "67/67 [==============================] - 0s 5ms/step - loss: 0.1425 - accuracy: 0.9622 - val_loss: 0.2287 - val_accuracy: 0.9349\n",
      "Epoch 213/250\n",
      "67/67 [==============================] - 0s 5ms/step - loss: 0.1573 - accuracy: 0.9529 - val_loss: 0.2048 - val_accuracy: 0.9401\n",
      "Epoch 214/250\n",
      "67/67 [==============================] - 0s 5ms/step - loss: 0.1436 - accuracy: 0.9492 - val_loss: 0.1743 - val_accuracy: 0.9271\n",
      "Epoch 215/250\n",
      "67/67 [==============================] - 0s 5ms/step - loss: 0.1897 - accuracy: 0.9384 - val_loss: 0.1940 - val_accuracy: 0.9453\n",
      "Epoch 216/250\n",
      "67/67 [==============================] - 0s 5ms/step - loss: 0.1440 - accuracy: 0.9520 - val_loss: 0.1744 - val_accuracy: 0.9401\n",
      "Epoch 217/250\n",
      "67/67 [==============================] - 0s 5ms/step - loss: 0.1451 - accuracy: 0.9543 - val_loss: 0.1651 - val_accuracy: 0.9375\n",
      "Epoch 218/250\n",
      "67/67 [==============================] - 0s 5ms/step - loss: 0.1564 - accuracy: 0.9524 - val_loss: 0.1640 - val_accuracy: 0.9479\n",
      "Epoch 219/250\n",
      "67/67 [==============================] - 0s 5ms/step - loss: 0.1568 - accuracy: 0.9515 - val_loss: 0.1840 - val_accuracy: 0.9453\n",
      "Epoch 220/250\n",
      "67/67 [==============================] - 0s 5ms/step - loss: 0.1428 - accuracy: 0.9557 - val_loss: 0.1920 - val_accuracy: 0.9349\n",
      "Epoch 221/250\n",
      "67/67 [==============================] - 0s 5ms/step - loss: 0.1719 - accuracy: 0.9478 - val_loss: 0.2187 - val_accuracy: 0.9193\n",
      "Epoch 222/250\n",
      "67/67 [==============================] - 0s 5ms/step - loss: 0.1466 - accuracy: 0.9576 - val_loss: 0.1843 - val_accuracy: 0.9453\n",
      "Epoch 223/250\n",
      "67/67 [==============================] - 0s 5ms/step - loss: 0.1375 - accuracy: 0.9566 - val_loss: 0.2416 - val_accuracy: 0.9219\n",
      "Epoch 224/250\n",
      "67/67 [==============================] - 0s 5ms/step - loss: 0.1843 - accuracy: 0.9422 - val_loss: 0.2265 - val_accuracy: 0.9271\n",
      "Epoch 225/250\n",
      "67/67 [==============================] - 0s 6ms/step - loss: 0.1334 - accuracy: 0.9529 - val_loss: 0.2547 - val_accuracy: 0.9349\n",
      "Epoch 226/250\n",
      "67/67 [==============================] - 0s 6ms/step - loss: 0.1601 - accuracy: 0.9450 - val_loss: 0.1933 - val_accuracy: 0.9375\n",
      "Epoch 227/250\n",
      "67/67 [==============================] - 0s 6ms/step - loss: 0.1534 - accuracy: 0.9552 - val_loss: 0.2324 - val_accuracy: 0.9427\n",
      "Epoch 228/250\n",
      "67/67 [==============================] - 7s 100ms/step - loss: 0.1645 - accuracy: 0.9444 - val_loss: 0.1914 - val_accuracy: 0.9479\n",
      "Epoch 229/250\n",
      "67/67 [==============================] - 0s 6ms/step - loss: 0.1457 - accuracy: 0.9585 - val_loss: 0.1927 - val_accuracy: 0.9427\n",
      "Epoch 230/250\n",
      "67/67 [==============================] - 0s 5ms/step - loss: 0.1316 - accuracy: 0.9548 - val_loss: 0.1973 - val_accuracy: 0.9323\n",
      "Epoch 231/250\n",
      "67/67 [==============================] - 0s 6ms/step - loss: 0.1154 - accuracy: 0.9613 - val_loss: 0.1690 - val_accuracy: 0.9505\n",
      "Epoch 232/250\n",
      "67/67 [==============================] - 0s 5ms/step - loss: 0.1752 - accuracy: 0.9492 - val_loss: 0.2226 - val_accuracy: 0.9219\n",
      "Epoch 233/250\n",
      "67/67 [==============================] - 0s 5ms/step - loss: 0.1422 - accuracy: 0.9506 - val_loss: 0.1792 - val_accuracy: 0.9323\n",
      "Epoch 234/250\n",
      "67/67 [==============================] - 0s 5ms/step - loss: 0.1934 - accuracy: 0.9482 - val_loss: 0.1427 - val_accuracy: 0.9557\n",
      "Epoch 235/250\n",
      "67/67 [==============================] - 0s 5ms/step - loss: 0.1460 - accuracy: 0.9543 - val_loss: 0.1694 - val_accuracy: 0.9453\n",
      "Epoch 236/250\n",
      "67/67 [==============================] - 0s 6ms/step - loss: 0.1319 - accuracy: 0.9562 - val_loss: 0.1748 - val_accuracy: 0.9427\n",
      "Epoch 237/250\n",
      "67/67 [==============================] - 0s 5ms/step - loss: 0.1528 - accuracy: 0.9524 - val_loss: 0.1931 - val_accuracy: 0.9453\n",
      "Epoch 238/250\n",
      "67/67 [==============================] - 0s 6ms/step - loss: 0.1631 - accuracy: 0.9515 - val_loss: 0.2130 - val_accuracy: 0.9219\n",
      "Epoch 239/250\n",
      "67/67 [==============================] - 0s 6ms/step - loss: 0.1596 - accuracy: 0.9529 - val_loss: 0.1743 - val_accuracy: 0.9427\n",
      "Epoch 240/250\n",
      "67/67 [==============================] - 0s 5ms/step - loss: 0.1051 - accuracy: 0.9627 - val_loss: 0.1788 - val_accuracy: 0.9531\n",
      "Epoch 241/250\n",
      "67/67 [==============================] - 0s 5ms/step - loss: 0.1063 - accuracy: 0.9655 - val_loss: 0.2145 - val_accuracy: 0.9271\n",
      "Epoch 242/250\n",
      "67/67 [==============================] - 0s 5ms/step - loss: 0.1275 - accuracy: 0.9576 - val_loss: 0.1672 - val_accuracy: 0.9531\n",
      "Epoch 243/250\n",
      "67/67 [==============================] - 0s 5ms/step - loss: 0.1419 - accuracy: 0.9538 - val_loss: 0.1892 - val_accuracy: 0.9375\n",
      "Epoch 244/250\n",
      "67/67 [==============================] - 0s 5ms/step - loss: 0.1640 - accuracy: 0.9492 - val_loss: 0.2086 - val_accuracy: 0.9271\n",
      "Epoch 245/250\n",
      "67/67 [==============================] - 0s 5ms/step - loss: 0.1333 - accuracy: 0.9576 - val_loss: 0.2054 - val_accuracy: 0.9427\n",
      "Epoch 246/250\n",
      "67/67 [==============================] - 0s 5ms/step - loss: 0.1167 - accuracy: 0.9566 - val_loss: 0.2077 - val_accuracy: 0.9323\n",
      "Epoch 247/250\n",
      "67/67 [==============================] - 0s 5ms/step - loss: 0.1441 - accuracy: 0.9557 - val_loss: 0.2972 - val_accuracy: 0.9167\n",
      "Epoch 248/250\n",
      "67/67 [==============================] - 0s 5ms/step - loss: 0.1631 - accuracy: 0.9487 - val_loss: 0.1973 - val_accuracy: 0.9401\n",
      "Epoch 249/250\n",
      "67/67 [==============================] - 0s 5ms/step - loss: 0.1220 - accuracy: 0.9580 - val_loss: 0.2110 - val_accuracy: 0.9375\n",
      "Epoch 250/250\n",
      "67/67 [==============================] - 0s 5ms/step - loss: 0.1348 - accuracy: 0.9562 - val_loss: 0.1812 - val_accuracy: 0.9453\n"
     ]
    }
   ],
   "source": [
    "training_history = model.fit(\n",
    "    x=shuffled_train.repeat(),\n",
    "    validation_data=shuffled_test.repeat(),\n",
    "    epochs=250,\n",
    "    steps_per_epoch=steps_per_epoch,\n",
    "    validation_steps=validation_steps,\n",
    "    callbacks=[\n",
    "        model_checkpoint_callback,\n",
    "#         early_stopping_callback,\n",
    "        tensorboard_callback\n",
    "    ],\n",
    "    verbose=1\n",
    ")"
   ]
  },
  {
   "cell_type": "markdown",
   "metadata": {},
   "source": [
    "##### Notify devloper that training is complete"
   ]
  },
  {
   "cell_type": "code",
   "execution_count": null,
   "metadata": {},
   "outputs": [],
   "source": [
    "# This module is removed from the posted version of this code so I don't get random texts\n",
    "# from send_text import send_text\n",
    "# send_text()"
   ]
  },
  {
   "cell_type": "markdown",
   "metadata": {},
   "source": [
    "#### Review training"
   ]
  },
  {
   "cell_type": "code",
   "execution_count": 4,
   "metadata": {},
   "outputs": [
    {
     "data": {
      "text/plain": [
       "Reusing TensorBoard on port 6971 (pid 5772), started 0:01:03 ago. (Use '!kill 5772' to kill it.)"
      ]
     },
     "metadata": {},
     "output_type": "display_data"
    },
    {
     "data": {
      "text/html": [
       "\n",
       "      <iframe id=\"tensorboard-frame-b379b74387790b8b\" width=\"100%\" height=\"800\" frameborder=\"0\">\n",
       "      </iframe>\n",
       "      <script>\n",
       "        (function() {\n",
       "          const frame = document.getElementById(\"tensorboard-frame-b379b74387790b8b\");\n",
       "          const url = new URL(\"/\", window.location);\n",
       "          const port = 6971;\n",
       "          if (port) {\n",
       "            url.port = port;\n",
       "          }\n",
       "          frame.src = url;\n",
       "        })();\n",
       "      </script>\n",
       "    "
      ],
      "text/plain": [
       "<IPython.core.display.HTML object>"
      ]
     },
     "metadata": {},
     "output_type": "display_data"
    }
   ],
   "source": [
    "%tensorboard --logdir logs/fit --port 6971"
   ]
  },
  {
   "cell_type": "code",
   "execution_count": null,
   "metadata": {},
   "outputs": [],
   "source": [
    "# !taskkill /F /PID 69968"
   ]
  },
  {
   "cell_type": "code",
   "execution_count": 35,
   "metadata": {},
   "outputs": [
    {
     "name": "stdout",
     "output_type": "stream",
     "text": [
      "WARNING:tensorflow:From c:\\users\\kitthekat\\appdata\\local\\programs\\python\\python38\\lib\\site-packages\\tensorflow\\python\\training\\tracking\\tracking.py:111: Model.state_updates (from tensorflow.python.keras.engine.training) is deprecated and will be removed in a future version.\n",
      "Instructions for updating:\n",
      "This property should not be used in TensorFlow 2.0, as updates are applied automatically.\n",
      "WARNING:tensorflow:From c:\\users\\kitthekat\\appdata\\local\\programs\\python\\python38\\lib\\site-packages\\tensorflow\\python\\training\\tracking\\tracking.py:111: Layer.updates (from tensorflow.python.keras.engine.base_layer) is deprecated and will be removed in a future version.\n",
      "Instructions for updating:\n",
      "This property should not be used in TensorFlow 2.0, as updates are applied automatically.\n",
      "INFO:tensorflow:Assets written to: exp1.mdl\\assets\n"
     ]
    }
   ],
   "source": [
    "model.save('exp1.mdl')"
   ]
  },
  {
   "cell_type": "code",
   "execution_count": null,
   "metadata": {},
   "outputs": [],
   "source": [
    "from tensorflow import keras\n",
    "model = keras.models.load_model('exp1.mdl')"
   ]
  },
  {
   "cell_type": "code",
   "execution_count": 39,
   "metadata": {},
   "outputs": [],
   "source": [
    "model.load_weights(\"tmp/checkpoints/weights.240-0.18.hdf5\")"
   ]
  },
  {
   "cell_type": "markdown",
   "metadata": {},
   "source": [
    "### Check accuracy on validation dataset"
   ]
  },
  {
   "cell_type": "code",
   "execution_count": 135,
   "metadata": {},
   "outputs": [],
   "source": [
    "valid_t = tfds.as_numpy(valid)"
   ]
  },
  {
   "cell_type": "code",
   "execution_count": 136,
   "metadata": {},
   "outputs": [],
   "source": [
    "valid_t = list(map(lambda x: (x[0].reshape(-1, 32, 32, 3), x[1]), valid_t))"
   ]
  },
  {
   "cell_type": "code",
   "execution_count": 143,
   "metadata": {},
   "outputs": [],
   "source": [
    "valid_t = list(zip(*valid_t))"
   ]
  },
  {
   "cell_type": "code",
   "execution_count": 144,
   "metadata": {},
   "outputs": [],
   "source": [
    "preds = list(map(model.predict_classes, valid_t[0]))"
   ]
  },
  {
   "cell_type": "code",
   "execution_count": 145,
   "metadata": {},
   "outputs": [],
   "source": [
    "from sklearn.metrics import accuracy_score"
   ]
  },
  {
   "cell_type": "code",
   "execution_count": 147,
   "metadata": {},
   "outputs": [
    {
     "data": {
      "text/plain": [
       "0.946031746031746"
      ]
     },
     "execution_count": 147,
     "metadata": {},
     "output_type": "execute_result"
    }
   ],
   "source": [
    "accuracy_score(valid_t[1], preds)"
   ]
  },
  {
   "cell_type": "code",
   "execution_count": null,
   "metadata": {},
   "outputs": [],
   "source": []
  }
 ],
 "metadata": {
  "colab": {
   "name": "main.ipynb",
   "provenance": []
  },
  "kernelspec": {
   "display_name": "Python 3",
   "language": "python",
   "name": "python3"
  },
  "language_info": {
   "codemirror_mode": {
    "name": "ipython",
    "version": 3
   },
   "file_extension": ".py",
   "mimetype": "text/x-python",
   "name": "python",
   "nbconvert_exporter": "python",
   "pygments_lexer": "ipython3",
   "version": "3.8.1"
  }
 },
 "nbformat": 4,
 "nbformat_minor": 4
}
